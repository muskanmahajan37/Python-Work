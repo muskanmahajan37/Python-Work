{
 "cells": [
  {
   "cell_type": "code",
   "execution_count": 1,
   "metadata": {
    "collapsed": false
   },
   "outputs": [],
   "source": [
    "# Return turn only if all input characters are alphabetic (locale-dependent)\n",
    "def is_alpha(input):\n",
    "\treturn input.isalpha()\n",
    "\n",
    "# Return turn only if all input characters are digits\n",
    "def is_digit(input):\n",
    "\treturn input.isdigit()\n",
    "\n",
    "# Return turn only if all input characters are alphanumeric (locale-dependent)\n",
    "def is_isalnum(input):\n",
    "    return input.isalnum()\n",
    "\n",
    "# Return turn only if all input characters are ascii characteres\n",
    "def is_ascii(input):\n",
    "\treturn all(ord(ch) < 128 for ch in input)\n",
    "\n",
    "# Return turn only if all input characters are hangul characters\n",
    "def is_hangul(input):\n",
    "\treturn all(u'\\uac00' <= ch <= u'\\ud7a3' for ch in unicode(input))"
   ]
  },
  {
   "cell_type": "code",
   "execution_count": 2,
   "metadata": {
    "collapsed": true
   },
   "outputs": [],
   "source": [
    "def filter_words(input, filters=[is_isalnum], replacement='#UNK'):\n",
    "    output = []\n",
    "    for word in input.split():\n",
    "        if any([filter(word) for filter in filters]):\n",
    "            output.append(word)\n",
    "        else:\n",
    "            output.append(replacement)\n",
    "    return ' '.join(output)"
   ]
  },
  {
   "cell_type": "code",
   "execution_count": 3,
   "metadata": {
    "collapsed": false,
    "scrolled": true
   },
   "outputs": [],
   "source": [
    "input_sentence = u'대한민국 Republic of Korea 大韓民國 Südkorea 1234 . , ; ( )'"
   ]
  },
  {
   "cell_type": "code",
   "execution_count": 4,
   "metadata": {
    "collapsed": false
   },
   "outputs": [
    {
     "name": "stdout",
     "output_type": "stream",
     "text": [
      "#UNK Republic of Korea #UNK #UNK 1234 . , ; ( )\n"
     ]
    }
   ],
   "source": [
    "print(filter_words(input_sentence, [is_ascii]))"
   ]
  },
  {
   "cell_type": "code",
   "execution_count": 5,
   "metadata": {
    "collapsed": false
   },
   "outputs": [
    {
     "name": "stdout",
     "output_type": "stream",
     "text": [
      "대한민국 #UNK #UNK #UNK #UNK #UNK #UNK #UNK #UNK #UNK #UNK #UNK\n"
     ]
    }
   ],
   "source": [
    "print(filter_words(input_sentence, [is_hangul]))"
   ]
  },
  {
   "cell_type": "code",
   "execution_count": 6,
   "metadata": {
    "collapsed": false
   },
   "outputs": [
    {
     "name": "stdout",
     "output_type": "stream",
     "text": [
      "대한민국 Republic of Korea #UNK #UNK 1234 . , ; ( )\n"
     ]
    }
   ],
   "source": [
    "print(filter_words(input_sentence, [is_ascii, is_hangul]))"
   ]
  }
 ],
 "metadata": {
  "kernelspec": {
   "display_name": "Python 2",
   "language": "python",
   "name": "python2"
  },
  "language_info": {
   "codemirror_mode": {
    "name": "ipython",
    "version": 2
   },
   "file_extension": ".py",
   "mimetype": "text/x-python",
   "name": "python",
   "nbconvert_exporter": "python",
   "pygments_lexer": "ipython2",
   "version": "2.7.6"
  }
 },
 "nbformat": 4,
 "nbformat_minor": 0
}
