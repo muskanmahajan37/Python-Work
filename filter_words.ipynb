{
 "cells": [
  {
   "cell_type": "code",
   "execution_count": 42,
   "metadata": {
    "collapsed": false
   },
   "outputs": [],
   "source": [
    "# Return turn only if all input characters are alphabetic (locale-dependent)\n",
    "def is_alpha(input):\n",
    "\treturn input.isalpha()\n",
    "\n",
    "# Return turn only if all input characters are digits\n",
    "def is_digit(input):\n",
    "\treturn input.isdigit()\n",
    "\n",
    "# Return turn only if all input characters are alphanumeric (locale-dependent)\n",
    "def is_isalnum(input):\n",
    "    return input.isalnum()\n",
    "\n",
    "# Return turn only if all input characters are ascii characteres\n",
    "def is_ascii(input):\n",
    "\treturn all(ord(ch) < 128 for ch in input)\n",
    "\n",
    "# Return turn only if all input characters are hangul characters\n",
    "def is_hangul(input):\n",
    "\t#'\\uac00' <= ch <= '\\ud7a3'\n",
    "\treturn all(u'가' <= ch <= u'힣' or u'ㄱ' <= ch <= u'ㅣ' for ch in unicode(input))"
   ]
  },
  {
   "cell_type": "code",
   "execution_count": 37,
   "metadata": {
    "collapsed": true
   },
   "outputs": [],
   "source": [
    "def filter_words(input, filters=[is_isalnum], replacement='#UNK'):\n",
    "    output = []\n",
    "    for word in input.split():\n",
    "        if any([filter(word) for filter in filters]):\n",
    "            output.append(word)\n",
    "        else:\n",
    "            output.append(replacement)\n",
    "    return ' '.join(output)"
   ]
  },
  {
   "cell_type": "code",
   "execution_count": 43,
   "metadata": {
    "collapsed": false,
    "scrolled": true
   },
   "outputs": [],
   "source": [
    "input_sentence = u'대한민국 Republic of Korea 大韓民國 Südkorea 1234 ㄱㄴㄷ . , ; ( )'"
   ]
  },
  {
   "cell_type": "code",
   "execution_count": 44,
   "metadata": {
    "collapsed": false
   },
   "outputs": [
    {
     "name": "stdout",
     "output_type": "stream",
     "text": [
      "#UNK Republic of Korea #UNK #UNK 1234 #UNK . , ; ( )\n"
     ]
    }
   ],
   "source": [
    "print(filter_words(input_sentence, [is_ascii]))"
   ]
  },
  {
   "cell_type": "code",
   "execution_count": 45,
   "metadata": {
    "collapsed": false
   },
   "outputs": [
    {
     "name": "stdout",
     "output_type": "stream",
     "text": [
      "대한민국 #UNK #UNK #UNK #UNK #UNK #UNK ㄱㄴㄷ #UNK #UNK #UNK #UNK #UNK\n"
     ]
    }
   ],
   "source": [
    "print(filter_words(input_sentence, [is_hangul]))"
   ]
  },
  {
   "cell_type": "code",
   "execution_count": 46,
   "metadata": {
    "collapsed": false,
    "scrolled": false
   },
   "outputs": [
    {
     "name": "stdout",
     "output_type": "stream",
     "text": [
      "대한민국 Republic of Korea #UNK #UNK 1234 ㄱㄴㄷ . , ; ( )\n"
     ]
    }
   ],
   "source": [
    "print(filter_words(input_sentence, [is_ascii, is_hangul]))"
   ]
  },
  {
   "cell_type": "code",
   "execution_count": 26,
   "metadata": {
    "collapsed": false,
    "scrolled": true
   },
   "outputs": [
    {
     "name": "stdout",
     "output_type": "stream",
     "text": [
      "ㄲ\n",
      "12593\n",
      "12643\n"
     ]
    }
   ],
   "source": [
    "print(unichr(12594))\n",
    "print(min([ord(ch) for ch in hangul_jaso]))\n",
    "print(max([ord(ch) for ch in hangul_jaso]))"
   ]
  },
  {
   "cell_type": "code",
   "execution_count": 33,
   "metadata": {
    "collapsed": false
   },
   "outputs": [
    {
     "data": {
      "text/plain": [
       "12593"
      ]
     },
     "execution_count": 33,
     "metadata": {},
     "output_type": "execute_result"
    }
   ],
   "source": [
    "ord(u'ㄱ')"
   ]
  },
  {
   "cell_type": "code",
   "execution_count": 35,
   "metadata": {
    "collapsed": false
   },
   "outputs": [
    {
     "name": "stdout",
     "output_type": "stream",
     "text": [
      "ㄱ\n",
      "ㄲ\n",
      "ㄳ\n",
      "ㄴ\n",
      "ㄵ\n",
      "ㄶ\n",
      "ㄷ\n",
      "ㄸ\n",
      "ㄹ\n",
      "ㄺ\n",
      "ㄻ\n",
      "ㄼ\n",
      "ㄽ\n",
      "ㄾ\n",
      "ㄿ\n",
      "ㅀ\n",
      "ㅁ\n",
      "ㅂ\n",
      "ㅃ\n",
      "ㅄ\n",
      "ㅅ\n",
      "ㅆ\n",
      "ㅇ\n",
      "ㅈ\n",
      "ㅉ\n",
      "ㅊ\n",
      "ㅋ\n",
      "ㅌ\n",
      "ㅍ\n",
      "ㅎ\n",
      "ㅏ\n",
      "ㅐ\n",
      "ㅑ\n",
      "ㅒ\n",
      "ㅓ\n",
      "ㅔ\n",
      "ㅕ\n",
      "ㅖ\n",
      "ㅗ\n",
      "ㅘ\n",
      "ㅙ\n",
      "ㅚ\n",
      "ㅛ\n",
      "ㅜ\n",
      "ㅝ\n",
      "ㅞ\n",
      "ㅟ\n",
      "ㅠ\n",
      "ㅡ\n",
      "ㅢ\n"
     ]
    }
   ],
   "source": [
    "#12593, 12644\n",
    "\n",
    "for i in range(ord(u'ㄱ'), ord(u'ㅣ')):\n",
    "    print(unichr(i))"
   ]
  }
 ],
 "metadata": {
  "kernelspec": {
   "display_name": "Python 2",
   "language": "python",
   "name": "python2"
  },
  "language_info": {
   "codemirror_mode": {
    "name": "ipython",
    "version": 2
   },
   "file_extension": ".py",
   "mimetype": "text/x-python",
   "name": "python",
   "nbconvert_exporter": "python",
   "pygments_lexer": "ipython2",
   "version": "2.7.6"
  }
 },
 "nbformat": 4,
 "nbformat_minor": 0
}
