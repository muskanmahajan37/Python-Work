{
 "cells": [
  {
   "cell_type": "markdown",
   "metadata": {},
   "source": [
    "https://medium.com/towards-data-science/lstm-by-example-using-tensorflow-feb0c1968537"
   ]
  },
  {
   "cell_type": "code",
   "execution_count": 1,
   "metadata": {
    "collapsed": true
   },
   "outputs": [],
   "source": [
    "def build_word_index(words):\n",
    "    import collections\n",
    "    count = collections.Counter(words).most_common()\n",
    "    word_to_idx = dict()\n",
    "    for word, _ in count:\n",
    "        word_to_idx[word] = len(word_to_idx)\n",
    "    idx_to_word = dict(zip(word_to_idx.values(), word_to_idx.keys()))\n",
    "    return word_to_idx, idx_to_word"
   ]
  },
  {
   "cell_type": "code",
   "execution_count": 2,
   "metadata": {
    "collapsed": false
   },
   "outputs": [
    {
     "name": "stdout",
     "output_type": "stream",
     "text": [
      "0 be\n",
      "1 ,\n",
      "2 to\n",
      "3 that\n",
      "4 is\n",
      "5 question\n",
      "6 not\n",
      "7 the\n",
      "8 or\n"
     ]
    }
   ],
   "source": [
    "words = 'to be , or not to be , that is the question '.split()\n",
    "word_to_idx, idx_to_word = build_word_index(words)\n",
    "for idx, word in idx_to_word.items():\n",
    "    print idx, word"
   ]
  }
 ],
 "metadata": {
  "kernelspec": {
   "display_name": "Python 2",
   "language": "python",
   "name": "python2"
  },
  "language_info": {
   "codemirror_mode": {
    "name": "ipython",
    "version": 2
   },
   "file_extension": ".py",
   "mimetype": "text/x-python",
   "name": "python",
   "nbconvert_exporter": "python",
   "pygments_lexer": "ipython2",
   "version": "2.7.6"
  }
 },
 "nbformat": 4,
 "nbformat_minor": 0
}
