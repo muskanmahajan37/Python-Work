{
 "cells": [
  {
   "cell_type": "markdown",
   "metadata": {},
   "source": [
    "Reference\n",
    "- https://github.com/roatienza/Deep-Learning-Experiments/blob/master/Experiments/Tensorflow/RNN/rnn_words.py"
   ]
  },
  {
   "cell_type": "code",
   "execution_count": 1,
   "metadata": {
    "collapsed": false
   },
   "outputs": [],
   "source": [
    "def build_index(items, zero_padding=None, unk_token=None):\n",
    "    import collections\n",
    "    count = collections.Counter(items).most_common()\n",
    "    item_to_idx = dict()\n",
    "    \n",
    "    if zero_padding != None:\n",
    "        item_to_idx[zero_padding] = len(item_to_idx)\n",
    "    \n",
    "    if unk_token != None:\n",
    "        item_to_idx[unk_token] = len(item_to_idx)    \n",
    "    \n",
    "    for item, _ in count:\n",
    "        if item not in item_to_idx:\n",
    "            item_to_idx[item] = len(item_to_idx)\n",
    "        \n",
    "    idx_to_item = dict(zip(item_to_idx.values(), item_to_idx.keys()))\n",
    "    return item_to_idx, idx_to_item"
   ]
  },
  {
   "cell_type": "code",
   "execution_count": 2,
   "metadata": {
    "collapsed": false
   },
   "outputs": [],
   "source": [
    "words = 'to be , or not to be , that is the question '.split()"
   ]
  },
  {
   "cell_type": "code",
   "execution_count": 3,
   "metadata": {
    "collapsed": false
   },
   "outputs": [
    {
     "name": "stdout",
     "output_type": "stream",
     "text": [
      "0 be\n",
      "1 ,\n",
      "2 to\n",
      "3 that\n",
      "4 is\n",
      "5 question\n",
      "6 not\n",
      "7 the\n",
      "8 or\n"
     ]
    }
   ],
   "source": [
    "word_to_idx, idx_to_word = build_index(words)\n",
    "for idx, word in idx_to_word.items():\n",
    "    print idx, word"
   ]
  },
  {
   "cell_type": "code",
   "execution_count": 4,
   "metadata": {
    "collapsed": false
   },
   "outputs": [
    {
     "name": "stdout",
     "output_type": "stream",
     "text": [
      "0 [ZERO_PADDING]\n",
      "1 be\n",
      "2 ,\n",
      "3 to\n",
      "4 that\n",
      "5 is\n",
      "6 question\n",
      "7 not\n",
      "8 the\n",
      "9 or\n"
     ]
    }
   ],
   "source": [
    "word_to_idx, idx_to_word = build_index(words, '[ZERO_PADDING]')\n",
    "for idx, word in idx_to_word.items():\n",
    "    print idx, word"
   ]
  },
  {
   "cell_type": "code",
   "execution_count": 5,
   "metadata": {
    "collapsed": false
   },
   "outputs": [
    {
     "name": "stdout",
     "output_type": "stream",
     "text": [
      "0 [ZERO_PADDING]\n",
      "1 [UNK_TOKEN]\n",
      "2 be\n",
      "3 ,\n",
      "4 to\n",
      "5 that\n",
      "6 is\n",
      "7 question\n",
      "8 not\n",
      "9 the\n",
      "10 or\n"
     ]
    }
   ],
   "source": [
    "word_to_idx, idx_to_word = build_index(words, '[ZERO_PADDING]', '[UNK_TOKEN]')\n",
    "for idx, word in idx_to_word.items():\n",
    "    print idx, word"
   ]
  }
 ],
 "metadata": {
  "kernelspec": {
   "display_name": "Python 2",
   "language": "python",
   "name": "python2"
  },
  "language_info": {
   "codemirror_mode": {
    "name": "ipython",
    "version": 2
   },
   "file_extension": ".py",
   "mimetype": "text/x-python",
   "name": "python",
   "nbconvert_exporter": "python",
   "pygments_lexer": "ipython2",
   "version": "2.7.6"
  }
 },
 "nbformat": 4,
 "nbformat_minor": 0
}
