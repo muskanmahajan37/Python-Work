{
 "cells": [
  {
   "cell_type": "markdown",
   "metadata": {},
   "source": [
    "Reference\n",
    "- https://github.com/roatienza/Deep-Learning-Experiments/blob/master/Experiments/Tensorflow/RNN/rnn_words.py"
   ]
  },
  {
   "cell_type": "code",
   "execution_count": 1,
   "metadata": {
    "collapsed": true
   },
   "outputs": [],
   "source": [
    "def build_index(items, zero_padding=False):\n",
    "    import collections\n",
    "    count = collections.Counter(items).most_common()\n",
    "    item_to_idx = dict()\n",
    "    if zero_padding:\n",
    "        item_to_idx['#ZERO_PADDING#'] = 0\n",
    "    for item, _ in count:\n",
    "        item_to_idx[item] = len(item_to_idx)\n",
    "    idx_to_item = dict(zip(item_to_idx.values(), item_to_idx.keys()))\n",
    "    return item_to_idx, idx_to_item"
   ]
  },
  {
   "cell_type": "code",
   "execution_count": 2,
   "metadata": {
    "collapsed": false
   },
   "outputs": [],
   "source": [
    "words = 'to be , or not to be , that is the question '.split()"
   ]
  },
  {
   "cell_type": "code",
   "execution_count": 3,
   "metadata": {
    "collapsed": false
   },
   "outputs": [
    {
     "name": "stdout",
     "output_type": "stream",
     "text": [
      "0 be\n",
      "1 ,\n",
      "2 to\n",
      "3 that\n",
      "4 is\n",
      "5 question\n",
      "6 not\n",
      "7 the\n",
      "8 or\n"
     ]
    }
   ],
   "source": [
    "word_to_idx, idx_to_word = build_index(words)\n",
    "for idx, word in idx_to_word.items():\n",
    "    print idx, word"
   ]
  },
  {
   "cell_type": "code",
   "execution_count": 4,
   "metadata": {
    "collapsed": false
   },
   "outputs": [
    {
     "name": "stdout",
     "output_type": "stream",
     "text": [
      "0 #ZERO_PADDING#\n",
      "1 be\n",
      "2 ,\n",
      "3 to\n",
      "4 that\n",
      "5 is\n",
      "6 question\n",
      "7 not\n",
      "8 the\n",
      "9 or\n"
     ]
    }
   ],
   "source": [
    "word_to_idx, idx_to_word = build_index(words, True)\n",
    "for idx, word in idx_to_word.items():\n",
    "    print idx, word"
   ]
  }
 ],
 "metadata": {
  "kernelspec": {
   "display_name": "Python 2",
   "language": "python",
   "name": "python2"
  },
  "language_info": {
   "codemirror_mode": {
    "name": "ipython",
    "version": 2
   },
   "file_extension": ".py",
   "mimetype": "text/x-python",
   "name": "python",
   "nbconvert_exporter": "python",
   "pygments_lexer": "ipython2",
   "version": "2.7.6"
  }
 },
 "nbformat": 4,
 "nbformat_minor": 0
}
