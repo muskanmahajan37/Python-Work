{
 "cells": [
  {
   "cell_type": "code",
   "execution_count": 1,
   "metadata": {
    "collapsed": true
   },
   "outputs": [],
   "source": [
    "def generate_parameter_combination_list(params_list):\n",
    "    curr_list = []\n",
    "    for params in params_list:\n",
    "        extended_list = []\n",
    "        if len(curr_list) > 0:\n",
    "            for _ in curr_list:\n",
    "                for param in params:\n",
    "                    extended_list.append(_ + (param, ))\n",
    "        else:\n",
    "            for param in params:\n",
    "                extended_list.append((param, ))\n",
    "        curr_list = extended_list\n",
    "    return curr_list"
   ]
  },
  {
   "cell_type": "code",
   "execution_count": 2,
   "metadata": {
    "collapsed": true
   },
   "outputs": [],
   "source": [
    "property_1 = ['A', 'B', 'C']\n",
    "property_2 = range(0, 4)\n",
    "property_3 = [0.1, 0.25, 0.5]"
   ]
  },
  {
   "cell_type": "code",
   "execution_count": 3,
   "metadata": {
    "collapsed": false
   },
   "outputs": [
    {
     "name": "stdout",
     "output_type": "stream",
     "text": [
      "('A', 0, 0.1)\n",
      "('A', 0, 0.25)\n",
      "('A', 0, 0.5)\n",
      "('A', 1, 0.1)\n",
      "('A', 1, 0.25)\n",
      "('A', 1, 0.5)\n",
      "('A', 2, 0.1)\n",
      "('A', 2, 0.25)\n",
      "('A', 2, 0.5)\n",
      "('A', 3, 0.1)\n",
      "('A', 3, 0.25)\n",
      "('A', 3, 0.5)\n",
      "('B', 0, 0.1)\n",
      "('B', 0, 0.25)\n",
      "('B', 0, 0.5)\n",
      "('B', 1, 0.1)\n",
      "('B', 1, 0.25)\n",
      "('B', 1, 0.5)\n",
      "('B', 2, 0.1)\n",
      "('B', 2, 0.25)\n",
      "('B', 2, 0.5)\n",
      "('B', 3, 0.1)\n",
      "('B', 3, 0.25)\n",
      "('B', 3, 0.5)\n",
      "('C', 0, 0.1)\n",
      "('C', 0, 0.25)\n",
      "('C', 0, 0.5)\n",
      "('C', 1, 0.1)\n",
      "('C', 1, 0.25)\n",
      "('C', 1, 0.5)\n",
      "('C', 2, 0.1)\n",
      "('C', 2, 0.25)\n",
      "('C', 2, 0.5)\n",
      "('C', 3, 0.1)\n",
      "('C', 3, 0.25)\n",
      "('C', 3, 0.5)\n"
     ]
    }
   ],
   "source": [
    "property_combination_list = generate_parameter_combination_list([property_1, property_2, property_3])\n",
    "for property_combination in property_combination_list:\n",
    "    print property_combination"
   ]
  }
 ],
 "metadata": {
  "kernelspec": {
   "display_name": "Python 2",
   "language": "python",
   "name": "python2"
  },
  "language_info": {
   "codemirror_mode": {
    "name": "ipython",
    "version": 2
   },
   "file_extension": ".py",
   "mimetype": "text/x-python",
   "name": "python",
   "nbconvert_exporter": "python",
   "pygments_lexer": "ipython2",
   "version": "2.7.6"
  }
 },
 "nbformat": 4,
 "nbformat_minor": 0
}
